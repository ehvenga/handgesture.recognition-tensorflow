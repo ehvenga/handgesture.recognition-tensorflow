{
 "cells": [
  {
   "cell_type": "code",
   "execution_count": 1,
   "metadata": {
    "id": "igMyGnjE9hEp"
   },
   "outputs": [
    {
     "name": "stdout",
     "output_type": "stream",
     "text": [
      "WARNING:tensorflow:From C:\\Users\\lingu\\anaconda3\\Lib\\site-packages\\keras\\src\\losses.py:2976: The name tf.losses.sparse_softmax_cross_entropy is deprecated. Please use tf.compat.v1.losses.sparse_softmax_cross_entropy instead.\n",
      "\n"
     ]
    }
   ],
   "source": [
    "import warnings\n",
    "warnings.filterwarnings(\"ignore\")\n",
    "\n",
    "import csv\n",
    "import numpy as np\n",
    "import tensorflow as tf\n",
    "from sklearn.model_selection import train_test_split\n",
    "\n",
    "RANDOM_SEED = 42"
   ]
  },
  {
   "cell_type": "markdown",
   "metadata": {
    "id": "t2HDvhIu9hEr"
   },
   "source": [
    "# Specify each path"
   ]
  },
  {
   "cell_type": "code",
   "execution_count": 2,
   "metadata": {
    "id": "9NvZP2Zn9hEy"
   },
   "outputs": [],
   "source": [
    "dataset = 'model/keypoint_classifier/keypoint.csv'\n",
    "model_save_path = 'model/keypoint_classifier/keypoint_classifier.hdf5'\n",
    "tflite_save_path = 'model/keypoint_classifier/keypoint_classifier.tflite'"
   ]
  },
  {
   "cell_type": "markdown",
   "metadata": {
    "id": "s5oMH7x19hEz"
   },
   "source": [
    "# Set number of classes"
   ]
  },
  {
   "cell_type": "code",
   "execution_count": 3,
   "metadata": {
    "id": "du4kodXL9hEz"
   },
   "outputs": [],
   "source": [
    "NUM_CLASSES = 8"
   ]
  },
  {
   "cell_type": "markdown",
   "metadata": {
    "id": "XjnL0uso9hEz"
   },
   "source": [
    "# Dataset reading"
   ]
  },
  {
   "cell_type": "code",
   "execution_count": 4,
   "metadata": {
    "id": "QT5ZqtEz9hE0"
   },
   "outputs": [],
   "source": [
    "X_dataset = np.loadtxt(dataset, delimiter=',', dtype='float32', usecols=list(range(1, (21 * 2) + 1)))"
   ]
  },
  {
   "cell_type": "code",
   "execution_count": 5,
   "metadata": {
    "id": "QmoKFsp49hE0"
   },
   "outputs": [],
   "source": [
    "y_dataset = np.loadtxt(dataset, delimiter=',', dtype='int32', usecols=(0))"
   ]
  },
  {
   "cell_type": "code",
   "execution_count": 6,
   "metadata": {
    "id": "xQU7JTZ_9hE0"
   },
   "outputs": [],
   "source": [
    "X_train, X_test, y_train, y_test = train_test_split(X_dataset, y_dataset, train_size=0.75, random_state=RANDOM_SEED)"
   ]
  },
  {
   "cell_type": "markdown",
   "metadata": {
    "id": "mxK_lETT9hE0"
   },
   "source": [
    "# Model building"
   ]
  },
  {
   "cell_type": "code",
   "execution_count": 7,
   "metadata": {
    "id": "vHBmUf1t9hE1"
   },
   "outputs": [
    {
     "name": "stdout",
     "output_type": "stream",
     "text": [
      "WARNING:tensorflow:From C:\\Users\\lingu\\anaconda3\\Lib\\site-packages\\keras\\src\\backend.py:1398: The name tf.executing_eagerly_outside_functions is deprecated. Please use tf.compat.v1.executing_eagerly_outside_functions instead.\n",
      "\n"
     ]
    }
   ],
   "source": [
    "model = tf.keras.models.Sequential([\n",
    "    tf.keras.layers.Input((21 * 2, )),\n",
    "    tf.keras.layers.Dropout(0.2),\n",
    "    tf.keras.layers.Dense(20, activation='relu'),\n",
    "    tf.keras.layers.Dropout(0.4),\n",
    "    tf.keras.layers.Dense(10, activation='relu'),\n",
    "    tf.keras.layers.Dense(NUM_CLASSES, activation='softmax')\n",
    "])"
   ]
  },
  {
   "cell_type": "code",
   "execution_count": 8,
   "metadata": {
    "colab": {
     "base_uri": "https://localhost:8080/"
    },
    "id": "ypqky9tc9hE1",
    "outputId": "5db082bb-30e3-4110-bf63-a1ee777ecd46"
   },
   "outputs": [
    {
     "name": "stdout",
     "output_type": "stream",
     "text": [
      "Model: \"sequential\"\n",
      "_________________________________________________________________\n",
      " Layer (type)                Output Shape              Param #   \n",
      "=================================================================\n",
      " dropout (Dropout)           (None, 42)                0         \n",
      "                                                                 \n",
      " dense (Dense)               (None, 20)                860       \n",
      "                                                                 \n",
      " dropout_1 (Dropout)         (None, 20)                0         \n",
      "                                                                 \n",
      " dense_1 (Dense)             (None, 10)                210       \n",
      "                                                                 \n",
      " dense_2 (Dense)             (None, 8)                 88        \n",
      "                                                                 \n",
      "=================================================================\n",
      "Total params: 1158 (4.52 KB)\n",
      "Trainable params: 1158 (4.52 KB)\n",
      "Non-trainable params: 0 (0.00 Byte)\n",
      "_________________________________________________________________\n"
     ]
    }
   ],
   "source": [
    "model.summary()  # tf.keras.utils.plot_model(model, show_shapes=True)"
   ]
  },
  {
   "cell_type": "code",
   "execution_count": 9,
   "metadata": {
    "id": "MbMjOflQ9hE1"
   },
   "outputs": [],
   "source": [
    "# Model checkpoint callback\n",
    "cp_callback = tf.keras.callbacks.ModelCheckpoint(\n",
    "    model_save_path, verbose=1, save_weights_only=False)\n",
    "# Callback for early stopping\n",
    "es_callback = tf.keras.callbacks.EarlyStopping(patience=20, verbose=1)"
   ]
  },
  {
   "cell_type": "code",
   "execution_count": 10,
   "metadata": {
    "id": "c3Dac0M_9hE2"
   },
   "outputs": [
    {
     "name": "stdout",
     "output_type": "stream",
     "text": [
      "WARNING:tensorflow:From C:\\Users\\lingu\\anaconda3\\Lib\\site-packages\\keras\\src\\optimizers\\__init__.py:309: The name tf.train.Optimizer is deprecated. Please use tf.compat.v1.train.Optimizer instead.\n",
      "\n"
     ]
    }
   ],
   "source": [
    "# Model compilation\n",
    "model.compile(\n",
    "    optimizer='adam',\n",
    "    loss='sparse_categorical_crossentropy',\n",
    "    metrics=['accuracy']\n",
    ")"
   ]
  },
  {
   "cell_type": "markdown",
   "metadata": {
    "id": "7XI0j1Iu9hE2"
   },
   "source": [
    "# Model training"
   ]
  },
  {
   "cell_type": "code",
   "execution_count": 11,
   "metadata": {
    "colab": {
     "base_uri": "https://localhost:8080/"
    },
    "id": "WirBl-JE9hE3",
    "outputId": "71b30ca2-8294-4d9d-8aa2-800d90d399de",
    "scrolled": true
   },
   "outputs": [
    {
     "name": "stdout",
     "output_type": "stream",
     "text": [
      "Epoch 1/1024\n",
      "WARNING:tensorflow:From C:\\Users\\lingu\\anaconda3\\Lib\\site-packages\\keras\\src\\utils\\tf_utils.py:492: The name tf.ragged.RaggedTensorValue is deprecated. Please use tf.compat.v1.ragged.RaggedTensorValue instead.\n",
      "\n",
      "WARNING:tensorflow:From C:\\Users\\lingu\\anaconda3\\Lib\\site-packages\\keras\\src\\engine\\base_layer_utils.py:384: The name tf.executing_eagerly_outside_functions is deprecated. Please use tf.compat.v1.executing_eagerly_outside_functions instead.\n",
      "\n",
      "45/49 [==========================>...] - ETA: 0s - loss: 2.0104 - accuracy: 0.2175\n",
      "Epoch 1: saving model to model/keypoint_classifier\\keypoint_classifier.hdf5\n",
      "49/49 [==============================] - 3s 15ms/step - loss: 2.0043 - accuracy: 0.2226 - val_loss: 1.8812 - val_accuracy: 0.3210\n",
      "Epoch 2/1024\n",
      "48/49 [============================>.] - ETA: 0s - loss: 1.8686 - accuracy: 0.2939\n",
      "Epoch 2: saving model to model/keypoint_classifier\\keypoint_classifier.hdf5\n",
      "49/49 [==============================] - 0s 6ms/step - loss: 1.8679 - accuracy: 0.2939 - val_loss: 1.7395 - val_accuracy: 0.4053\n",
      "Epoch 3/1024\n",
      "43/49 [=========================>....] - ETA: 0s - loss: 1.7679 - accuracy: 0.3363\n",
      "Epoch 3: saving model to model/keypoint_classifier\\keypoint_classifier.hdf5\n",
      "49/49 [==============================] - 0s 9ms/step - loss: 1.7583 - accuracy: 0.3400 - val_loss: 1.6114 - val_accuracy: 0.4520\n",
      "Epoch 4/1024\n",
      "42/49 [========================>.....] - ETA: 0s - loss: 1.6763 - accuracy: 0.3698\n",
      "Epoch 4: saving model to model/keypoint_classifier\\keypoint_classifier.hdf5\n",
      "49/49 [==============================] - 0s 8ms/step - loss: 1.6688 - accuracy: 0.3704 - val_loss: 1.5039 - val_accuracy: 0.4680\n",
      "Epoch 5/1024\n",
      "40/49 [=======================>......] - ETA: 0s - loss: 1.6016 - accuracy: 0.3846\n",
      "Epoch 5: saving model to model/keypoint_classifier\\keypoint_classifier.hdf5\n",
      "49/49 [==============================] - 0s 8ms/step - loss: 1.5954 - accuracy: 0.3839 - val_loss: 1.4117 - val_accuracy: 0.4863\n",
      "Epoch 6/1024\n",
      "43/49 [=========================>....] - ETA: 0s - loss: 1.5255 - accuracy: 0.4110\n",
      "Epoch 6: saving model to model/keypoint_classifier\\keypoint_classifier.hdf5\n",
      "49/49 [==============================] - 0s 8ms/step - loss: 1.5270 - accuracy: 0.4107 - val_loss: 1.3381 - val_accuracy: 0.5051\n",
      "Epoch 7/1024\n",
      "46/49 [===========================>..] - ETA: 0s - loss: 1.4702 - accuracy: 0.4312\n",
      "Epoch 7: saving model to model/keypoint_classifier\\keypoint_classifier.hdf5\n",
      "49/49 [==============================] - 0s 6ms/step - loss: 1.4700 - accuracy: 0.4295 - val_loss: 1.2748 - val_accuracy: 0.5320\n",
      "Epoch 8/1024\n",
      "47/49 [===========================>..] - ETA: 0s - loss: 1.4386 - accuracy: 0.4440\n",
      "Epoch 8: saving model to model/keypoint_classifier\\keypoint_classifier.hdf5\n",
      "49/49 [==============================] - 0s 7ms/step - loss: 1.4375 - accuracy: 0.4440 - val_loss: 1.2239 - val_accuracy: 0.5417\n",
      "Epoch 9/1024\n",
      "38/49 [======================>.......] - ETA: 0s - loss: 1.4006 - accuracy: 0.4496\n",
      "Epoch 9: saving model to model/keypoint_classifier\\keypoint_classifier.hdf5\n",
      "49/49 [==============================] - 0s 7ms/step - loss: 1.3963 - accuracy: 0.4522 - val_loss: 1.1723 - val_accuracy: 0.6323\n",
      "Epoch 10/1024\n",
      "34/49 [===================>..........] - ETA: 0s - loss: 1.3691 - accuracy: 0.4699\n",
      "Epoch 10: saving model to model/keypoint_classifier\\keypoint_classifier.hdf5\n",
      "49/49 [==============================] - 0s 6ms/step - loss: 1.3635 - accuracy: 0.4702 - val_loss: 1.1291 - val_accuracy: 0.6024\n",
      "Epoch 11/1024\n",
      "36/49 [=====================>........] - ETA: 0s - loss: 1.3451 - accuracy: 0.4588\n",
      "Epoch 11: saving model to model/keypoint_classifier\\keypoint_classifier.hdf5\n",
      "49/49 [==============================] - 0s 6ms/step - loss: 1.3468 - accuracy: 0.4620 - val_loss: 1.0944 - val_accuracy: 0.6477\n",
      "Epoch 12/1024\n",
      "48/49 [============================>.] - ETA: 0s - loss: 1.3171 - accuracy: 0.4829\n",
      "Epoch 12: saving model to model/keypoint_classifier\\keypoint_classifier.hdf5\n",
      "49/49 [==============================] - 0s 6ms/step - loss: 1.3169 - accuracy: 0.4834 - val_loss: 1.0584 - val_accuracy: 0.6829\n",
      "Epoch 13/1024\n",
      "39/49 [======================>.......] - ETA: 0s - loss: 1.3003 - accuracy: 0.4960\n",
      "Epoch 13: saving model to model/keypoint_classifier\\keypoint_classifier.hdf5\n",
      "49/49 [==============================] - 0s 7ms/step - loss: 1.2999 - accuracy: 0.4948 - val_loss: 1.0278 - val_accuracy: 0.6747\n",
      "Epoch 14/1024\n",
      "49/49 [==============================] - ETA: 0s - loss: 1.2777 - accuracy: 0.4994\n",
      "Epoch 14: saving model to model/keypoint_classifier\\keypoint_classifier.hdf5\n",
      "49/49 [==============================] - 0s 6ms/step - loss: 1.2777 - accuracy: 0.4994 - val_loss: 0.9975 - val_accuracy: 0.6925\n",
      "Epoch 15/1024\n",
      "42/49 [========================>.....] - ETA: 0s - loss: 1.2505 - accuracy: 0.5061\n",
      "Epoch 15: saving model to model/keypoint_classifier\\keypoint_classifier.hdf5\n",
      "49/49 [==============================] - 0s 7ms/step - loss: 1.2485 - accuracy: 0.5057 - val_loss: 0.9608 - val_accuracy: 0.7104\n",
      "Epoch 16/1024\n",
      "34/49 [===================>..........] - ETA: 0s - loss: 1.2430 - accuracy: 0.5138\n",
      "Epoch 16: saving model to model/keypoint_classifier\\keypoint_classifier.hdf5\n",
      "49/49 [==============================] - 0s 6ms/step - loss: 1.2463 - accuracy: 0.5134 - val_loss: 0.9449 - val_accuracy: 0.7234\n",
      "Epoch 17/1024\n",
      "49/49 [==============================] - ETA: 0s - loss: 1.2239 - accuracy: 0.5253\n",
      "Epoch 17: saving model to model/keypoint_classifier\\keypoint_classifier.hdf5\n",
      "49/49 [==============================] - 0s 7ms/step - loss: 1.2239 - accuracy: 0.5253 - val_loss: 0.9224 - val_accuracy: 0.7364\n",
      "Epoch 18/1024\n",
      "43/49 [=========================>....] - ETA: 0s - loss: 1.1950 - accuracy: 0.5441\n",
      "Epoch 18: saving model to model/keypoint_classifier\\keypoint_classifier.hdf5\n",
      "49/49 [==============================] - 0s 8ms/step - loss: 1.1926 - accuracy: 0.5460 - val_loss: 0.8898 - val_accuracy: 0.7480\n",
      "Epoch 19/1024\n",
      "35/49 [====================>.........] - ETA: 0s - loss: 1.1968 - accuracy: 0.5321\n",
      "Epoch 19: saving model to model/keypoint_classifier\\keypoint_classifier.hdf5\n",
      "49/49 [==============================] - 0s 6ms/step - loss: 1.1910 - accuracy: 0.5346 - val_loss: 0.8781 - val_accuracy: 0.7595\n",
      "Epoch 20/1024\n",
      "35/49 [====================>.........] - ETA: 0s - loss: 1.1583 - accuracy: 0.5504\n",
      "Epoch 20: saving model to model/keypoint_classifier\\keypoint_classifier.hdf5\n",
      "49/49 [==============================] - 0s 6ms/step - loss: 1.1612 - accuracy: 0.5491 - val_loss: 0.8524 - val_accuracy: 0.7773\n",
      "Epoch 21/1024\n",
      "35/49 [====================>.........] - ETA: 0s - loss: 1.1609 - accuracy: 0.5417\n",
      "Epoch 21: saving model to model/keypoint_classifier\\keypoint_classifier.hdf5\n",
      "49/49 [==============================] - 0s 6ms/step - loss: 1.1619 - accuracy: 0.5439 - val_loss: 0.8446 - val_accuracy: 0.7802\n",
      "Epoch 22/1024\n",
      "45/49 [==========================>...] - ETA: 0s - loss: 1.1609 - accuracy: 0.5444\n",
      "Epoch 22: saving model to model/keypoint_classifier\\keypoint_classifier.hdf5\n",
      "49/49 [==============================] - 0s 7ms/step - loss: 1.1569 - accuracy: 0.5462 - val_loss: 0.8293 - val_accuracy: 0.8063\n",
      "Epoch 23/1024\n",
      "38/49 [======================>.......] - ETA: 0s - loss: 1.1424 - accuracy: 0.5662\n",
      "Epoch 23: saving model to model/keypoint_classifier\\keypoint_classifier.hdf5\n",
      "49/49 [==============================] - 0s 7ms/step - loss: 1.1396 - accuracy: 0.5634 - val_loss: 0.8032 - val_accuracy: 0.8010\n",
      "Epoch 24/1024\n",
      "47/49 [===========================>..] - ETA: 0s - loss: 1.1319 - accuracy: 0.5695\n",
      "Epoch 24: saving model to model/keypoint_classifier\\keypoint_classifier.hdf5\n",
      "49/49 [==============================] - 0s 6ms/step - loss: 1.1305 - accuracy: 0.5703 - val_loss: 0.7878 - val_accuracy: 0.7995\n",
      "Epoch 25/1024\n",
      "45/49 [==========================>...] - ETA: 0s - loss: 1.1113 - accuracy: 0.5667\n",
      "Epoch 25: saving model to model/keypoint_classifier\\keypoint_classifier.hdf5\n",
      "49/49 [==============================] - 0s 6ms/step - loss: 1.1142 - accuracy: 0.5648 - val_loss: 0.7713 - val_accuracy: 0.8217\n",
      "Epoch 26/1024\n",
      "45/49 [==========================>...] - ETA: 0s - loss: 1.1039 - accuracy: 0.5828\n",
      "Epoch 26: saving model to model/keypoint_classifier\\keypoint_classifier.hdf5\n",
      "49/49 [==============================] - 0s 6ms/step - loss: 1.1023 - accuracy: 0.5827 - val_loss: 0.7535 - val_accuracy: 0.8212\n"
     ]
    },
    {
     "name": "stdout",
     "output_type": "stream",
     "text": [
      "Epoch 27/1024\n",
      "44/49 [=========================>....] - ETA: 0s - loss: 1.0866 - accuracy: 0.5875\n",
      "Epoch 27: saving model to model/keypoint_classifier\\keypoint_classifier.hdf5\n",
      "49/49 [==============================] - 0s 8ms/step - loss: 1.0887 - accuracy: 0.5864 - val_loss: 0.7443 - val_accuracy: 0.8337\n",
      "Epoch 28/1024\n",
      "39/49 [======================>.......] - ETA: 0s - loss: 1.0958 - accuracy: 0.5863\n",
      "Epoch 28: saving model to model/keypoint_classifier\\keypoint_classifier.hdf5\n",
      "49/49 [==============================] - 0s 8ms/step - loss: 1.1017 - accuracy: 0.5836 - val_loss: 0.7475 - val_accuracy: 0.8231\n",
      "Epoch 29/1024\n",
      "49/49 [==============================] - ETA: 0s - loss: 1.0771 - accuracy: 0.5885\n",
      "Epoch 29: saving model to model/keypoint_classifier\\keypoint_classifier.hdf5\n",
      "49/49 [==============================] - 0s 6ms/step - loss: 1.0771 - accuracy: 0.5885 - val_loss: 0.7201 - val_accuracy: 0.8410\n",
      "Epoch 30/1024\n",
      "49/49 [==============================] - ETA: 0s - loss: 1.0627 - accuracy: 0.5901\n",
      "Epoch 30: saving model to model/keypoint_classifier\\keypoint_classifier.hdf5\n",
      "49/49 [==============================] - 0s 8ms/step - loss: 1.0627 - accuracy: 0.5901 - val_loss: 0.7148 - val_accuracy: 0.8578\n",
      "Epoch 31/1024\n",
      "46/49 [===========================>..] - ETA: 0s - loss: 1.0619 - accuracy: 0.5932\n",
      "Epoch 31: saving model to model/keypoint_classifier\\keypoint_classifier.hdf5\n",
      "49/49 [==============================] - 0s 6ms/step - loss: 1.0591 - accuracy: 0.5923 - val_loss: 0.7034 - val_accuracy: 0.8636\n",
      "Epoch 32/1024\n",
      "49/49 [==============================] - ETA: 0s - loss: 1.0592 - accuracy: 0.5989\n",
      "Epoch 32: saving model to model/keypoint_classifier\\keypoint_classifier.hdf5\n",
      "49/49 [==============================] - 0s 8ms/step - loss: 1.0592 - accuracy: 0.5989 - val_loss: 0.6904 - val_accuracy: 0.8501\n",
      "Epoch 33/1024\n",
      "36/49 [=====================>........] - ETA: 0s - loss: 1.0447 - accuracy: 0.5977\n",
      "Epoch 33: saving model to model/keypoint_classifier\\keypoint_classifier.hdf5\n",
      "49/49 [==============================] - 0s 7ms/step - loss: 1.0573 - accuracy: 0.5936 - val_loss: 0.6805 - val_accuracy: 0.8829\n",
      "Epoch 34/1024\n",
      "39/49 [======================>.......] - ETA: 0s - loss: 1.0376 - accuracy: 0.5974\n",
      "Epoch 34: saving model to model/keypoint_classifier\\keypoint_classifier.hdf5\n",
      "49/49 [==============================] - 0s 6ms/step - loss: 1.0447 - accuracy: 0.5955 - val_loss: 0.6781 - val_accuracy: 0.8752\n",
      "Epoch 35/1024\n",
      "42/49 [========================>.....] - ETA: 0s - loss: 1.0292 - accuracy: 0.6057\n",
      "Epoch 35: saving model to model/keypoint_classifier\\keypoint_classifier.hdf5\n",
      "49/49 [==============================] - 0s 8ms/step - loss: 1.0348 - accuracy: 0.6036 - val_loss: 0.6712 - val_accuracy: 0.8790\n",
      "Epoch 36/1024\n",
      "42/49 [========================>.....] - ETA: 0s - loss: 1.0147 - accuracy: 0.6198\n",
      "Epoch 36: saving model to model/keypoint_classifier\\keypoint_classifier.hdf5\n",
      "49/49 [==============================] - 0s 8ms/step - loss: 1.0191 - accuracy: 0.6187 - val_loss: 0.6583 - val_accuracy: 0.8766\n",
      "Epoch 37/1024\n",
      "38/49 [======================>.......] - ETA: 0s - loss: 1.0243 - accuracy: 0.6188\n",
      "Epoch 37: saving model to model/keypoint_classifier\\keypoint_classifier.hdf5\n",
      "49/49 [==============================] - 0s 7ms/step - loss: 1.0218 - accuracy: 0.6151 - val_loss: 0.6444 - val_accuracy: 0.8964\n",
      "Epoch 38/1024\n",
      "35/49 [====================>.........] - ETA: 0s - loss: 1.0188 - accuracy: 0.6145\n",
      "Epoch 38: saving model to model/keypoint_classifier\\keypoint_classifier.hdf5\n",
      "49/49 [==============================] - 0s 6ms/step - loss: 1.0150 - accuracy: 0.6135 - val_loss: 0.6445 - val_accuracy: 0.8896\n",
      "Epoch 39/1024\n",
      "45/49 [==========================>...] - ETA: 0s - loss: 1.0090 - accuracy: 0.6288\n",
      "Epoch 39: saving model to model/keypoint_classifier\\keypoint_classifier.hdf5\n",
      "49/49 [==============================] - 0s 7ms/step - loss: 1.0072 - accuracy: 0.6293 - val_loss: 0.6365 - val_accuracy: 0.9036\n",
      "Epoch 40/1024\n",
      "43/49 [=========================>....] - ETA: 0s - loss: 0.9907 - accuracy: 0.6274\n",
      "Epoch 40: saving model to model/keypoint_classifier\\keypoint_classifier.hdf5\n",
      "49/49 [==============================] - 0s 7ms/step - loss: 0.9933 - accuracy: 0.6286 - val_loss: 0.6214 - val_accuracy: 0.9027\n",
      "Epoch 41/1024\n",
      "35/49 [====================>.........] - ETA: 0s - loss: 1.0031 - accuracy: 0.6145\n",
      "Epoch 41: saving model to model/keypoint_classifier\\keypoint_classifier.hdf5\n",
      "49/49 [==============================] - 0s 6ms/step - loss: 1.0008 - accuracy: 0.6179 - val_loss: 0.6299 - val_accuracy: 0.8925\n",
      "Epoch 42/1024\n",
      "45/49 [==========================>...] - ETA: 0s - loss: 0.9830 - accuracy: 0.6316\n",
      "Epoch 42: saving model to model/keypoint_classifier\\keypoint_classifier.hdf5\n",
      "49/49 [==============================] - 0s 6ms/step - loss: 0.9748 - accuracy: 0.6368 - val_loss: 0.6165 - val_accuracy: 0.8993\n",
      "Epoch 43/1024\n",
      "35/49 [====================>.........] - ETA: 0s - loss: 0.9871 - accuracy: 0.6324\n",
      "Epoch 43: saving model to model/keypoint_classifier\\keypoint_classifier.hdf5\n",
      "49/49 [==============================] - 0s 6ms/step - loss: 0.9767 - accuracy: 0.6373 - val_loss: 0.6072 - val_accuracy: 0.9022\n",
      "Epoch 44/1024\n",
      "36/49 [=====================>........] - ETA: 0s - loss: 0.9750 - accuracy: 0.6367\n",
      "Epoch 44: saving model to model/keypoint_classifier\\keypoint_classifier.hdf5\n",
      "49/49 [==============================] - 0s 6ms/step - loss: 0.9822 - accuracy: 0.6333 - val_loss: 0.6114 - val_accuracy: 0.8983\n",
      "Epoch 45/1024\n",
      "48/49 [============================>.] - ETA: 0s - loss: 0.9750 - accuracy: 0.6346\n",
      "Epoch 45: saving model to model/keypoint_classifier\\keypoint_classifier.hdf5\n",
      "49/49 [==============================] - 0s 7ms/step - loss: 0.9744 - accuracy: 0.6349 - val_loss: 0.5949 - val_accuracy: 0.9133\n",
      "Epoch 46/1024\n",
      "37/49 [=====================>........] - ETA: 0s - loss: 0.9823 - accuracy: 0.6351\n",
      "Epoch 46: saving model to model/keypoint_classifier\\keypoint_classifier.hdf5\n",
      "49/49 [==============================] - 0s 6ms/step - loss: 0.9775 - accuracy: 0.6355 - val_loss: 0.5942 - val_accuracy: 0.9089\n",
      "Epoch 47/1024\n",
      "41/49 [========================>.....] - ETA: 0s - loss: 0.9906 - accuracy: 0.6279\n",
      "Epoch 47: saving model to model/keypoint_classifier\\keypoint_classifier.hdf5\n",
      "49/49 [==============================] - 0s 7ms/step - loss: 0.9857 - accuracy: 0.6294 - val_loss: 0.5992 - val_accuracy: 0.9046\n",
      "Epoch 48/1024\n",
      "38/49 [======================>.......] - ETA: 0s - loss: 0.9531 - accuracy: 0.6435\n",
      "Epoch 48: saving model to model/keypoint_classifier\\keypoint_classifier.hdf5\n",
      "49/49 [==============================] - 0s 7ms/step - loss: 0.9571 - accuracy: 0.6423 - val_loss: 0.5733 - val_accuracy: 0.9118\n",
      "Epoch 49/1024\n",
      "44/49 [=========================>....] - ETA: 0s - loss: 0.9500 - accuracy: 0.6557\n",
      "Epoch 49: saving model to model/keypoint_classifier\\keypoint_classifier.hdf5\n",
      "49/49 [==============================] - 0s 6ms/step - loss: 0.9515 - accuracy: 0.6529 - val_loss: 0.5663 - val_accuracy: 0.9234\n",
      "Epoch 50/1024\n",
      "39/49 [======================>.......] - ETA: 0s - loss: 0.9452 - accuracy: 0.6460\n",
      "Epoch 50: saving model to model/keypoint_classifier\\keypoint_classifier.hdf5\n",
      "49/49 [==============================] - 0s 5ms/step - loss: 0.9419 - accuracy: 0.6489 - val_loss: 0.5678 - val_accuracy: 0.9084\n",
      "Epoch 51/1024\n",
      "35/49 [====================>.........] - ETA: 0s - loss: 0.9705 - accuracy: 0.6234\n",
      "Epoch 51: saving model to model/keypoint_classifier\\keypoint_classifier.hdf5\n",
      "49/49 [==============================] - 0s 6ms/step - loss: 0.9605 - accuracy: 0.6355 - val_loss: 0.5781 - val_accuracy: 0.9002\n",
      "Epoch 52/1024\n",
      "44/49 [=========================>....] - ETA: 0s - loss: 0.9581 - accuracy: 0.6515\n",
      "Epoch 52: saving model to model/keypoint_classifier\\keypoint_classifier.hdf5\n",
      "49/49 [==============================] - 0s 8ms/step - loss: 0.9608 - accuracy: 0.6474 - val_loss: 0.5660 - val_accuracy: 0.9065\n",
      "Epoch 53/1024\n",
      "38/49 [======================>.......] - ETA: 0s - loss: 0.9615 - accuracy: 0.6408\n",
      "Epoch 53: saving model to model/keypoint_classifier\\keypoint_classifier.hdf5\n",
      "49/49 [==============================] - 0s 6ms/step - loss: 0.9591 - accuracy: 0.6437 - val_loss: 0.5651 - val_accuracy: 0.9171\n",
      "Epoch 54/1024\n"
     ]
    },
    {
     "name": "stdout",
     "output_type": "stream",
     "text": [
      "46/49 [===========================>..] - ETA: 0s - loss: 0.9480 - accuracy: 0.6427\n",
      "Epoch 54: saving model to model/keypoint_classifier\\keypoint_classifier.hdf5\n",
      "49/49 [==============================] - 0s 8ms/step - loss: 0.9467 - accuracy: 0.6442 - val_loss: 0.5599 - val_accuracy: 0.9060\n",
      "Epoch 55/1024\n",
      "47/49 [===========================>..] - ETA: 0s - loss: 0.9270 - accuracy: 0.6562\n",
      "Epoch 55: saving model to model/keypoint_classifier\\keypoint_classifier.hdf5\n",
      "49/49 [==============================] - 0s 8ms/step - loss: 0.9279 - accuracy: 0.6564 - val_loss: 0.5478 - val_accuracy: 0.9205\n",
      "Epoch 56/1024\n",
      "44/49 [=========================>....] - ETA: 0s - loss: 0.9339 - accuracy: 0.6587\n",
      "Epoch 56: saving model to model/keypoint_classifier\\keypoint_classifier.hdf5\n",
      "49/49 [==============================] - 0s 8ms/step - loss: 0.9303 - accuracy: 0.6577 - val_loss: 0.5534 - val_accuracy: 0.9186\n",
      "Epoch 57/1024\n",
      "48/49 [============================>.] - ETA: 0s - loss: 0.9309 - accuracy: 0.6600\n",
      "Epoch 57: saving model to model/keypoint_classifier\\keypoint_classifier.hdf5\n",
      "49/49 [==============================] - 0s 6ms/step - loss: 0.9269 - accuracy: 0.6614 - val_loss: 0.5396 - val_accuracy: 0.9181\n",
      "Epoch 58/1024\n",
      "35/49 [====================>.........] - ETA: 0s - loss: 0.8978 - accuracy: 0.6656\n",
      "Epoch 58: saving model to model/keypoint_classifier\\keypoint_classifier.hdf5\n",
      "49/49 [==============================] - 0s 5ms/step - loss: 0.9146 - accuracy: 0.6593 - val_loss: 0.5421 - val_accuracy: 0.9094\n",
      "Epoch 59/1024\n",
      "36/49 [=====================>........] - ETA: 0s - loss: 0.9140 - accuracy: 0.6691\n",
      "Epoch 59: saving model to model/keypoint_classifier\\keypoint_classifier.hdf5\n",
      "49/49 [==============================] - 0s 6ms/step - loss: 0.9192 - accuracy: 0.6666 - val_loss: 0.5593 - val_accuracy: 0.9108\n",
      "Epoch 60/1024\n",
      "39/49 [======================>.......] - ETA: 0s - loss: 0.9356 - accuracy: 0.6546\n",
      "Epoch 60: saving model to model/keypoint_classifier\\keypoint_classifier.hdf5\n",
      "49/49 [==============================] - 0s 7ms/step - loss: 0.9292 - accuracy: 0.6550 - val_loss: 0.5512 - val_accuracy: 0.9070\n",
      "Epoch 61/1024\n",
      "36/49 [=====================>........] - ETA: 0s - loss: 0.9436 - accuracy: 0.6562\n",
      "Epoch 61: saving model to model/keypoint_classifier\\keypoint_classifier.hdf5\n",
      "49/49 [==============================] - 0s 6ms/step - loss: 0.9373 - accuracy: 0.6568 - val_loss: 0.5396 - val_accuracy: 0.9123\n",
      "Epoch 62/1024\n",
      "45/49 [==========================>...] - ETA: 0s - loss: 0.9211 - accuracy: 0.6592\n",
      "Epoch 62: saving model to model/keypoint_classifier\\keypoint_classifier.hdf5\n",
      "49/49 [==============================] - 0s 6ms/step - loss: 0.9242 - accuracy: 0.6582 - val_loss: 0.5404 - val_accuracy: 0.9258\n",
      "Epoch 63/1024\n",
      "47/49 [===========================>..] - ETA: 0s - loss: 0.8990 - accuracy: 0.6740\n",
      "Epoch 63: saving model to model/keypoint_classifier\\keypoint_classifier.hdf5\n",
      "49/49 [==============================] - 0s 6ms/step - loss: 0.8967 - accuracy: 0.6731 - val_loss: 0.5247 - val_accuracy: 0.9306\n",
      "Epoch 64/1024\n",
      "48/49 [============================>.] - ETA: 0s - loss: 0.9233 - accuracy: 0.6525\n",
      "Epoch 64: saving model to model/keypoint_classifier\\keypoint_classifier.hdf5\n",
      "49/49 [==============================] - 0s 8ms/step - loss: 0.9222 - accuracy: 0.6542 - val_loss: 0.5375 - val_accuracy: 0.9190\n",
      "Epoch 65/1024\n",
      "45/49 [==========================>...] - ETA: 0s - loss: 0.8875 - accuracy: 0.6729\n",
      "Epoch 65: saving model to model/keypoint_classifier\\keypoint_classifier.hdf5\n",
      "49/49 [==============================] - 0s 7ms/step - loss: 0.8852 - accuracy: 0.6752 - val_loss: 0.5156 - val_accuracy: 0.9214\n",
      "Epoch 66/1024\n",
      "45/49 [==========================>...] - ETA: 0s - loss: 0.8941 - accuracy: 0.6731\n",
      "Epoch 66: saving model to model/keypoint_classifier\\keypoint_classifier.hdf5\n",
      "49/49 [==============================] - 0s 7ms/step - loss: 0.8912 - accuracy: 0.6743 - val_loss: 0.5260 - val_accuracy: 0.9084\n",
      "Epoch 67/1024\n",
      "41/49 [========================>.....] - ETA: 0s - loss: 0.9000 - accuracy: 0.6683\n",
      "Epoch 67: saving model to model/keypoint_classifier\\keypoint_classifier.hdf5\n",
      "49/49 [==============================] - 0s 7ms/step - loss: 0.8995 - accuracy: 0.6678 - val_loss: 0.5283 - val_accuracy: 0.9137\n",
      "Epoch 68/1024\n",
      "43/49 [=========================>....] - ETA: 0s - loss: 0.8949 - accuracy: 0.6691\n",
      "Epoch 68: saving model to model/keypoint_classifier\\keypoint_classifier.hdf5\n",
      "49/49 [==============================] - 0s 7ms/step - loss: 0.8909 - accuracy: 0.6717 - val_loss: 0.5184 - val_accuracy: 0.9248\n",
      "Epoch 69/1024\n",
      "48/49 [============================>.] - ETA: 0s - loss: 0.8999 - accuracy: 0.6720\n",
      "Epoch 69: saving model to model/keypoint_classifier\\keypoint_classifier.hdf5\n",
      "49/49 [==============================] - 0s 8ms/step - loss: 0.9018 - accuracy: 0.6714 - val_loss: 0.5140 - val_accuracy: 0.9243\n",
      "Epoch 70/1024\n",
      "48/49 [============================>.] - ETA: 0s - loss: 0.8930 - accuracy: 0.6769\n",
      "Epoch 70: saving model to model/keypoint_classifier\\keypoint_classifier.hdf5\n",
      "49/49 [==============================] - 0s 7ms/step - loss: 0.8916 - accuracy: 0.6773 - val_loss: 0.5270 - val_accuracy: 0.9224\n",
      "Epoch 71/1024\n",
      "42/49 [========================>.....] - ETA: 0s - loss: 0.8997 - accuracy: 0.6683\n",
      "Epoch 71: saving model to model/keypoint_classifier\\keypoint_classifier.hdf5\n",
      "49/49 [==============================] - 0s 7ms/step - loss: 0.8983 - accuracy: 0.6683 - val_loss: 0.5337 - val_accuracy: 0.9118\n",
      "Epoch 72/1024\n",
      "47/49 [===========================>..] - ETA: 0s - loss: 0.8683 - accuracy: 0.6853\n",
      "Epoch 72: saving model to model/keypoint_classifier\\keypoint_classifier.hdf5\n",
      "49/49 [==============================] - 0s 8ms/step - loss: 0.8710 - accuracy: 0.6831 - val_loss: 0.5087 - val_accuracy: 0.9277\n",
      "Epoch 73/1024\n",
      "34/49 [===================>..........] - ETA: 0s - loss: 0.8815 - accuracy: 0.6859\n",
      "Epoch 73: saving model to model/keypoint_classifier\\keypoint_classifier.hdf5\n",
      "49/49 [==============================] - 0s 7ms/step - loss: 0.8834 - accuracy: 0.6826 - val_loss: 0.5131 - val_accuracy: 0.9234\n",
      "Epoch 74/1024\n",
      "42/49 [========================>.....] - ETA: 0s - loss: 0.9056 - accuracy: 0.6685\n",
      "Epoch 74: saving model to model/keypoint_classifier\\keypoint_classifier.hdf5\n",
      "49/49 [==============================] - 0s 6ms/step - loss: 0.9058 - accuracy: 0.6704 - val_loss: 0.5186 - val_accuracy: 0.9161\n",
      "Epoch 75/1024\n",
      "36/49 [=====================>........] - ETA: 0s - loss: 0.8706 - accuracy: 0.6888\n",
      "Epoch 75: saving model to model/keypoint_classifier\\keypoint_classifier.hdf5\n",
      "49/49 [==============================] - 0s 6ms/step - loss: 0.8627 - accuracy: 0.6894 - val_loss: 0.5075 - val_accuracy: 0.9263\n",
      "Epoch 76/1024\n",
      "35/49 [====================>.........] - ETA: 0s - loss: 0.8936 - accuracy: 0.6768\n",
      "Epoch 76: saving model to model/keypoint_classifier\\keypoint_classifier.hdf5\n",
      "49/49 [==============================] - 0s 6ms/step - loss: 0.8779 - accuracy: 0.6838 - val_loss: 0.5187 - val_accuracy: 0.9214\n",
      "Epoch 77/1024\n",
      "37/49 [=====================>........] - ETA: 0s - loss: 0.8661 - accuracy: 0.6902\n",
      "Epoch 77: saving model to model/keypoint_classifier\\keypoint_classifier.hdf5\n",
      "49/49 [==============================] - 0s 6ms/step - loss: 0.8681 - accuracy: 0.6918 - val_loss: 0.5065 - val_accuracy: 0.9277\n",
      "Epoch 78/1024\n",
      "47/49 [===========================>..] - ETA: 0s - loss: 0.8664 - accuracy: 0.6838\n",
      "Epoch 78: saving model to model/keypoint_classifier\\keypoint_classifier.hdf5\n",
      "49/49 [==============================] - 0s 8ms/step - loss: 0.8702 - accuracy: 0.6825 - val_loss: 0.4994 - val_accuracy: 0.9292\n",
      "Epoch 79/1024\n",
      "48/49 [============================>.] - ETA: 0s - loss: 0.8690 - accuracy: 0.6785\n",
      "Epoch 79: saving model to model/keypoint_classifier\\keypoint_classifier.hdf5\n",
      "49/49 [==============================] - 0s 6ms/step - loss: 0.8710 - accuracy: 0.6778 - val_loss: 0.4957 - val_accuracy: 0.9296\n",
      "Epoch 80/1024\n",
      "40/49 [=======================>......] - ETA: 0s - loss: 0.8561 - accuracy: 0.6906\n",
      "Epoch 80: saving model to model/keypoint_classifier\\keypoint_classifier.hdf5\n",
      "49/49 [==============================] - 0s 7ms/step - loss: 0.8623 - accuracy: 0.6887 - val_loss: 0.4974 - val_accuracy: 0.9263\n",
      "Epoch 81/1024\n"
     ]
    },
    {
     "name": "stdout",
     "output_type": "stream",
     "text": [
      "38/49 [======================>.......] - ETA: 0s - loss: 0.8600 - accuracy: 0.6920\n",
      "Epoch 81: saving model to model/keypoint_classifier\\keypoint_classifier.hdf5\n",
      "49/49 [==============================] - 0s 6ms/step - loss: 0.8581 - accuracy: 0.6939 - val_loss: 0.4965 - val_accuracy: 0.9306\n",
      "Epoch 82/1024\n",
      "37/49 [=====================>........] - ETA: 0s - loss: 0.8658 - accuracy: 0.6896\n",
      "Epoch 82: saving model to model/keypoint_classifier\\keypoint_classifier.hdf5\n",
      "49/49 [==============================] - 0s 5ms/step - loss: 0.8664 - accuracy: 0.6868 - val_loss: 0.4956 - val_accuracy: 0.9277\n",
      "Epoch 83/1024\n",
      "39/49 [======================>.......] - ETA: 0s - loss: 0.8695 - accuracy: 0.6803\n",
      "Epoch 83: saving model to model/keypoint_classifier\\keypoint_classifier.hdf5\n",
      "49/49 [==============================] - 0s 8ms/step - loss: 0.8648 - accuracy: 0.6823 - val_loss: 0.4964 - val_accuracy: 0.9267\n",
      "Epoch 84/1024\n",
      "43/49 [=========================>....] - ETA: 0s - loss: 0.8503 - accuracy: 0.6875\n",
      "Epoch 84: saving model to model/keypoint_classifier\\keypoint_classifier.hdf5\n",
      "49/49 [==============================] - 0s 5ms/step - loss: 0.8474 - accuracy: 0.6884 - val_loss: 0.5112 - val_accuracy: 0.9258\n",
      "Epoch 85/1024\n",
      "44/49 [=========================>....] - ETA: 0s - loss: 0.8685 - accuracy: 0.6903\n",
      "Epoch 85: saving model to model/keypoint_classifier\\keypoint_classifier.hdf5\n",
      "49/49 [==============================] - 0s 5ms/step - loss: 0.8658 - accuracy: 0.6931 - val_loss: 0.5155 - val_accuracy: 0.9229\n",
      "Epoch 86/1024\n",
      "36/49 [=====================>........] - ETA: 0s - loss: 0.8564 - accuracy: 0.6879\n",
      "Epoch 86: saving model to model/keypoint_classifier\\keypoint_classifier.hdf5\n",
      "49/49 [==============================] - 0s 6ms/step - loss: 0.8561 - accuracy: 0.6900 - val_loss: 0.5088 - val_accuracy: 0.9123\n",
      "Epoch 87/1024\n",
      "34/49 [===================>..........] - ETA: 0s - loss: 0.8581 - accuracy: 0.6864\n",
      "Epoch 87: saving model to model/keypoint_classifier\\keypoint_classifier.hdf5\n",
      "49/49 [==============================] - 0s 6ms/step - loss: 0.8582 - accuracy: 0.6887 - val_loss: 0.5016 - val_accuracy: 0.9161\n",
      "Epoch 88/1024\n",
      "40/49 [=======================>......] - ETA: 0s - loss: 0.8356 - accuracy: 0.6939\n",
      "Epoch 88: saving model to model/keypoint_classifier\\keypoint_classifier.hdf5\n",
      "49/49 [==============================] - 0s 7ms/step - loss: 0.8337 - accuracy: 0.6961 - val_loss: 0.4783 - val_accuracy: 0.9349\n",
      "Epoch 89/1024\n",
      "49/49 [==============================] - ETA: 0s - loss: 0.8364 - accuracy: 0.6982\n",
      "Epoch 89: saving model to model/keypoint_classifier\\keypoint_classifier.hdf5\n",
      "49/49 [==============================] - 0s 6ms/step - loss: 0.8364 - accuracy: 0.6982 - val_loss: 0.4941 - val_accuracy: 0.9330\n",
      "Epoch 90/1024\n",
      "38/49 [======================>.......] - ETA: 0s - loss: 0.8607 - accuracy: 0.6850\n",
      "Epoch 90: saving model to model/keypoint_classifier\\keypoint_classifier.hdf5\n",
      "49/49 [==============================] - 0s 6ms/step - loss: 0.8590 - accuracy: 0.6836 - val_loss: 0.4868 - val_accuracy: 0.9325\n",
      "Epoch 91/1024\n",
      "33/49 [===================>..........] - ETA: 0s - loss: 0.8362 - accuracy: 0.6925\n",
      "Epoch 91: saving model to model/keypoint_classifier\\keypoint_classifier.hdf5\n",
      "49/49 [==============================] - 0s 7ms/step - loss: 0.8474 - accuracy: 0.6892 - val_loss: 0.5164 - val_accuracy: 0.9190\n",
      "Epoch 92/1024\n",
      "42/49 [========================>.....] - ETA: 0s - loss: 0.8383 - accuracy: 0.6901\n",
      "Epoch 92: saving model to model/keypoint_classifier\\keypoint_classifier.hdf5\n",
      "49/49 [==============================] - 0s 9ms/step - loss: 0.8449 - accuracy: 0.6883 - val_loss: 0.5150 - val_accuracy: 0.9157\n",
      "Epoch 93/1024\n",
      "36/49 [=====================>........] - ETA: 0s - loss: 0.8432 - accuracy: 0.6908\n",
      "Epoch 93: saving model to model/keypoint_classifier\\keypoint_classifier.hdf5\n",
      "49/49 [==============================] - 0s 5ms/step - loss: 0.8447 - accuracy: 0.6911 - val_loss: 0.5042 - val_accuracy: 0.9253\n",
      "Epoch 94/1024\n",
      "43/49 [=========================>....] - ETA: 0s - loss: 0.8457 - accuracy: 0.6931\n",
      "Epoch 94: saving model to model/keypoint_classifier\\keypoint_classifier.hdf5\n",
      "49/49 [==============================] - 1s 11ms/step - loss: 0.8490 - accuracy: 0.6937 - val_loss: 0.5128 - val_accuracy: 0.9176\n",
      "Epoch 95/1024\n",
      "49/49 [==============================] - ETA: 0s - loss: 0.8354 - accuracy: 0.6981\n",
      "Epoch 95: saving model to model/keypoint_classifier\\keypoint_classifier.hdf5\n",
      "49/49 [==============================] - 0s 8ms/step - loss: 0.8354 - accuracy: 0.6981 - val_loss: 0.4915 - val_accuracy: 0.9292\n",
      "Epoch 96/1024\n",
      "39/49 [======================>.......] - ETA: 0s - loss: 0.8374 - accuracy: 0.6923\n",
      "Epoch 96: saving model to model/keypoint_classifier\\keypoint_classifier.hdf5\n",
      "49/49 [==============================] - 0s 7ms/step - loss: 0.8384 - accuracy: 0.6940 - val_loss: 0.4942 - val_accuracy: 0.9296\n",
      "Epoch 97/1024\n",
      "37/49 [=====================>........] - ETA: 0s - loss: 0.8541 - accuracy: 0.6877\n",
      "Epoch 97: saving model to model/keypoint_classifier\\keypoint_classifier.hdf5\n",
      "49/49 [==============================] - 0s 7ms/step - loss: 0.8538 - accuracy: 0.6913 - val_loss: 0.5075 - val_accuracy: 0.9277\n",
      "Epoch 98/1024\n",
      "35/49 [====================>.........] - ETA: 0s - loss: 0.8433 - accuracy: 0.6879\n",
      "Epoch 98: saving model to model/keypoint_classifier\\keypoint_classifier.hdf5\n",
      "49/49 [==============================] - 0s 6ms/step - loss: 0.8331 - accuracy: 0.6947 - val_loss: 0.4938 - val_accuracy: 0.9311\n",
      "Epoch 99/1024\n",
      "36/49 [=====================>........] - ETA: 0s - loss: 0.8253 - accuracy: 0.7029\n",
      "Epoch 99: saving model to model/keypoint_classifier\\keypoint_classifier.hdf5\n",
      "49/49 [==============================] - 0s 6ms/step - loss: 0.8286 - accuracy: 0.6995 - val_loss: 0.5207 - val_accuracy: 0.9007\n",
      "Epoch 100/1024\n",
      "40/49 [=======================>......] - ETA: 0s - loss: 0.8190 - accuracy: 0.7068\n",
      "Epoch 100: saving model to model/keypoint_classifier\\keypoint_classifier.hdf5\n",
      "49/49 [==============================] - 0s 7ms/step - loss: 0.8264 - accuracy: 0.7038 - val_loss: 0.4840 - val_accuracy: 0.9330\n",
      "Epoch 101/1024\n",
      "33/49 [===================>..........] - ETA: 0s - loss: 0.8308 - accuracy: 0.6984\n",
      "Epoch 101: saving model to model/keypoint_classifier\\keypoint_classifier.hdf5\n",
      "49/49 [==============================] - 0s 6ms/step - loss: 0.8393 - accuracy: 0.6973 - val_loss: 0.4906 - val_accuracy: 0.9349\n",
      "Epoch 102/1024\n",
      "42/49 [========================>.....] - ETA: 0s - loss: 0.8545 - accuracy: 0.6910\n",
      "Epoch 102: saving model to model/keypoint_classifier\\keypoint_classifier.hdf5\n",
      "49/49 [==============================] - 0s 7ms/step - loss: 0.8365 - accuracy: 0.6997 - val_loss: 0.5377 - val_accuracy: 0.9075\n",
      "Epoch 103/1024\n",
      "34/49 [===================>..........] - ETA: 0s - loss: 0.8114 - accuracy: 0.7125\n",
      "Epoch 103: saving model to model/keypoint_classifier\\keypoint_classifier.hdf5\n",
      "49/49 [==============================] - 0s 6ms/step - loss: 0.8138 - accuracy: 0.7079 - val_loss: 0.5037 - val_accuracy: 0.9210\n",
      "Epoch 104/1024\n",
      "43/49 [=========================>....] - ETA: 0s - loss: 0.8401 - accuracy: 0.7022\n",
      "Epoch 104: saving model to model/keypoint_classifier\\keypoint_classifier.hdf5\n",
      "49/49 [==============================] - 0s 7ms/step - loss: 0.8425 - accuracy: 0.6997 - val_loss: 0.5123 - val_accuracy: 0.9161\n",
      "Epoch 105/1024\n",
      "49/49 [==============================] - ETA: 0s - loss: 0.8303 - accuracy: 0.7003\n",
      "Epoch 105: saving model to model/keypoint_classifier\\keypoint_classifier.hdf5\n",
      "49/49 [==============================] - 0s 6ms/step - loss: 0.8303 - accuracy: 0.7003 - val_loss: 0.5061 - val_accuracy: 0.9142\n",
      "Epoch 106/1024\n",
      "49/49 [==============================] - ETA: 0s - loss: 0.8273 - accuracy: 0.6947\n",
      "Epoch 106: saving model to model/keypoint_classifier\\keypoint_classifier.hdf5\n",
      "49/49 [==============================] - 0s 6ms/step - loss: 0.8273 - accuracy: 0.6947 - val_loss: 0.4888 - val_accuracy: 0.9224\n",
      "Epoch 107/1024\n",
      "34/49 [===================>..........] - ETA: 0s - loss: 0.8356 - accuracy: 0.6988\n",
      "Epoch 107: saving model to model/keypoint_classifier\\keypoint_classifier.hdf5\n",
      "49/49 [==============================] - 0s 6ms/step - loss: 0.8291 - accuracy: 0.7022 - val_loss: 0.5022 - val_accuracy: 0.9176\n",
      "Epoch 108/1024\n"
     ]
    },
    {
     "name": "stdout",
     "output_type": "stream",
     "text": [
      "35/49 [====================>.........] - ETA: 0s - loss: 0.8320 - accuracy: 0.6935\n",
      "Epoch 108: saving model to model/keypoint_classifier\\keypoint_classifier.hdf5\n",
      "49/49 [==============================] - 0s 6ms/step - loss: 0.8307 - accuracy: 0.6902 - val_loss: 0.4948 - val_accuracy: 0.9243\n",
      "Epoch 108: early stopping\n"
     ]
    },
    {
     "data": {
      "text/plain": [
       "<keras.src.callbacks.History at 0x1551d5e4fd0>"
      ]
     },
     "execution_count": 11,
     "metadata": {},
     "output_type": "execute_result"
    }
   ],
   "source": [
    "model.fit(\n",
    "    X_train,\n",
    "    y_train,\n",
    "    epochs=1024,\n",
    "    batch_size=128,\n",
    "    validation_data=(X_test, y_test),\n",
    "    callbacks=[cp_callback, es_callback]\n",
    ")"
   ]
  },
  {
   "cell_type": "code",
   "execution_count": null,
   "metadata": {},
   "outputs": [],
   "source": []
  },
  {
   "cell_type": "code",
   "execution_count": 12,
   "metadata": {
    "colab": {
     "base_uri": "https://localhost:8080/"
    },
    "id": "pxvb2Y299hE3",
    "outputId": "59eb3185-2e37-4b9e-bc9d-ab1b8ac29b7f"
   },
   "outputs": [
    {
     "name": "stdout",
     "output_type": "stream",
     "text": [
      "17/17 [==============================] - 0s 3ms/step - loss: 0.4948 - accuracy: 0.9243\n"
     ]
    }
   ],
   "source": [
    "# Model evaluation\n",
    "val_loss, val_acc = model.evaluate(X_test, y_test, batch_size=128)"
   ]
  },
  {
   "cell_type": "code",
   "execution_count": 13,
   "metadata": {
    "id": "RBkmDeUW9hE4"
   },
   "outputs": [],
   "source": [
    "# Loading the saved model\n",
    "model = tf.keras.models.load_model(model_save_path)"
   ]
  },
  {
   "cell_type": "code",
   "execution_count": 14,
   "metadata": {
    "colab": {
     "base_uri": "https://localhost:8080/"
    },
    "id": "tFz9Tb0I9hE4",
    "outputId": "1c3b3528-54ae-4ee2-ab04-77429211cbef"
   },
   "outputs": [
    {
     "name": "stdout",
     "output_type": "stream",
     "text": [
      "1/1 [==============================] - 0s 183ms/step\n",
      "[1.4169855e-01 4.4547744e-02 3.6552709e-02 4.8623515e-05 1.1661712e-02\n",
      " 2.2826836e-09 7.6530564e-01 1.8493594e-04]\n",
      "6\n"
     ]
    }
   ],
   "source": [
    "# Inference test\n",
    "predict_result = model.predict(np.array([X_test[0]]))\n",
    "print(np.squeeze(predict_result))\n",
    "print(np.argmax(np.squeeze(predict_result)))"
   ]
  },
  {
   "cell_type": "markdown",
   "metadata": {
    "id": "S3U4yNWx9hE4"
   },
   "source": [
    "# Confusion matrix"
   ]
  },
  {
   "cell_type": "code",
   "execution_count": 15,
   "metadata": {
    "colab": {
     "base_uri": "https://localhost:8080/",
     "height": 582
    },
    "id": "AP1V6SCk9hE5",
    "outputId": "08e41a80-7a4a-4619-8125-ecc371368d19"
   },
   "outputs": [
    {
     "name": "stdout",
     "output_type": "stream",
     "text": [
      "65/65 [==============================] - 0s 3ms/step\n"
     ]
    },
    {
     "data": {
      "image/png": "[encoded data removed]",
      "text/plain": [
       "<Figure size 700x600 with 2 Axes>"
      ]
     },
     "metadata": {},
     "output_type": "display_data"
    },
    {
     "name": "stdout",
     "output_type": "stream",
     "text": [
      "Classification Report\n",
      "              precision    recall  f1-score   support\n",
      "\n",
      "           0       0.98      0.90      0.94       559\n",
      "           1       0.92      0.91      0.91       454\n",
      "           2       0.90      0.95      0.92       348\n",
      "           3       0.91      0.97      0.94       236\n",
      "           4       0.98      0.90      0.94       178\n",
      "           5       0.88      0.89      0.89        75\n",
      "           6       0.76      0.97      0.85       107\n",
      "           7       0.99      0.97      0.98       118\n",
      "\n",
      "    accuracy                           0.92      2075\n",
      "   macro avg       0.91      0.93      0.92      2075\n",
      "weighted avg       0.93      0.92      0.93      2075\n",
      "\n"
     ]
    }
   ],
   "source": [
    "import pandas as pd\n",
    "import seaborn as sns\n",
    "import matplotlib.pyplot as plt\n",
    "from sklearn.metrics import confusion_matrix, classification_report\n",
    "\n",
    "def print_confusion_matrix(y_true, y_pred, report=True):\n",
    "    labels = sorted(list(set(y_true)))\n",
    "    cmx_data = confusion_matrix(y_true, y_pred, labels=labels)\n",
    "    \n",
    "    df_cmx = pd.DataFrame(cmx_data, index=labels, columns=labels)\n",
    " \n",
    "    fig, ax = plt.subplots(figsize=(7, 6))\n",
    "    sns.heatmap(df_cmx, annot=True, fmt='g' ,square=False)\n",
    "    ax.set_ylim(len(set(y_true)), 0)\n",
    "    plt.show()\n",
    "    \n",
    "    if report:\n",
    "        print('Classification Report')\n",
    "        print(classification_report(y_test, y_pred))\n",
    "\n",
    "Y_pred = model.predict(X_test)\n",
    "y_pred = np.argmax(Y_pred, axis=1)\n",
    "\n",
    "print_confusion_matrix(y_test, y_pred)"
   ]
  },
  {
   "cell_type": "markdown",
   "metadata": {
    "id": "FNP6aqzc9hE5"
   },
   "source": [
    "# Convert to model for Tensorflow-Lite"
   ]
  },
  {
   "cell_type": "code",
   "execution_count": 16,
   "metadata": {
    "id": "ODjnYyld9hE6"
   },
   "outputs": [],
   "source": [
    "# Save as a model dedicated to inference\n",
    "model.save(model_save_path, include_optimizer=False)"
   ]
  },
  {
   "cell_type": "markdown",
   "metadata": {
    "id": "CHBPBXdx9hE6"
   },
   "source": [
    "# Inference test"
   ]
  },
  {
   "cell_type": "code",
   "execution_count": 17,
   "metadata": {
    "colab": {
     "base_uri": "https://localhost:8080/"
    },
    "id": "zRfuK8Y59hE6",
    "outputId": "a4ca585c-b5d5-4244-8291-8674063209bb"
   },
   "outputs": [
    {
     "name": "stdout",
     "output_type": "stream",
     "text": [
      "INFO:tensorflow:Assets written to: C:\\Users\\lingu\\AppData\\Local\\Temp\\tmpew3sm_2n\\assets\n"
     ]
    },
    {
     "name": "stderr",
     "output_type": "stream",
     "text": [
      "INFO:tensorflow:Assets written to: C:\\Users\\lingu\\AppData\\Local\\Temp\\tmpew3sm_2n\\assets\n"
     ]
    },
    {
     "data": {
      "text/plain": [
       "6720"
      ]
     },
     "execution_count": 17,
     "metadata": {},
     "output_type": "execute_result"
    }
   ],
   "source": [
    "# Transform model (quantization)\n",
    "\n",
    "converter = tf.lite.TFLiteConverter.from_keras_model(model)\n",
    "converter.optimizations = [tf.lite.Optimize.DEFAULT]\n",
    "tflite_quantized_model = converter.convert()\n",
    "\n",
    "open(tflite_save_path, 'wb').write(tflite_quantized_model)"
   ]
  },
  {
   "cell_type": "code",
   "execution_count": 18,
   "metadata": {
    "id": "mGAzLocO9hE7"
   },
   "outputs": [],
   "source": [
    "interpreter = tf.lite.Interpreter(model_path=tflite_save_path)\n",
    "interpreter.allocate_tensors()"
   ]
  },
  {
   "cell_type": "code",
   "execution_count": 19,
   "metadata": {
    "id": "oQuDK8YS9hE7"
   },
   "outputs": [],
   "source": [
    "# Get I / O tensor\n",
    "input_details = interpreter.get_input_details()\n",
    "output_details = interpreter.get_output_details()"
   ]
  },
  {
   "cell_type": "code",
   "execution_count": 20,
   "metadata": {
    "id": "2_ixAf_l9hE7"
   },
   "outputs": [],
   "source": [
    "interpreter.set_tensor(input_details[0]['index'], np.array([X_test[0]]))"
   ]
  },
  {
   "cell_type": "code",
   "execution_count": 21,
   "metadata": {
    "colab": {
     "base_uri": "https://localhost:8080/"
    },
    "id": "s4FoAnuc9hE7",
    "outputId": "91f18257-8d8b-4ef3-c558-e9b5f94fabbf",
    "scrolled": true
   },
   "outputs": [
    {
     "name": "stdout",
     "output_type": "stream",
     "text": [
      "CPU times: total: 0 ns\n",
      "Wall time: 0 ns\n"
     ]
    }
   ],
   "source": [
    "%%time\n",
    "# Inference implementation\n",
    "interpreter.invoke()\n",
    "tflite_results = interpreter.get_tensor(output_details[0]['index'])"
   ]
  },
  {
   "cell_type": "code",
   "execution_count": 22,
   "metadata": {
    "colab": {
     "base_uri": "https://localhost:8080/"
    },
    "id": "vONjp19J9hE8",
    "outputId": "77205e24-fd00-42c4-f7b6-e06e527c2cba"
   },
   "outputs": [
    {
     "name": "stdout",
     "output_type": "stream",
     "text": [
      "[1.4169841e-01 4.4547707e-02 3.6552668e-02 4.8623537e-05 1.1661701e-02\n",
      " 2.2826843e-09 7.6530594e-01 1.8493584e-04]\n",
      "6\n"
     ]
    }
   ],
   "source": [
    "print(np.squeeze(tflite_results))\n",
    "print(np.argmax(np.squeeze(tflite_results)))"
   ]
  },
  {
   "cell_type": "code",
   "execution_count": null,
   "metadata": {},
   "outputs": [],
   "source": []
  }
 ],
 "metadata": {
  "accelerator": "GPU",
  "colab": {
   "collapsed_sections": [],
   "name": "keypoint_classification_EN.ipynb",
   "provenance": [],
   "toc_visible": true
  },
  "kernelspec": {
   "display_name": "Python 3 (ipykernel)",
   "language": "python",
   "name": "python3"
  },
  "language_info": {
   "codemirror_mode": {
    "name": "ipython",
    "version": 3
   },
   "file_extension": ".py",
   "mimetype": "text/x-python",
   "name": "python",
   "nbconvert_exporter": "python",
   "pygments_lexer": "ipython3",
   "version": "3.11.5"
  }
 },
 "nbformat": 4,
 "nbformat_minor": 1
}
